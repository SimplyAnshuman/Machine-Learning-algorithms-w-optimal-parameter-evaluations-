{
 "cells": [
  {
   "cell_type": "markdown",
   "metadata": {},
   "source": [
    "# Feature Selection and LASSO - Algorithm to select optimal L1 penalty"
   ]
  },
  {
   "cell_type": "markdown",
   "metadata": {},
   "source": [
    "\n",
    "* Run LASSO with different L1 penalties.\n",
    "* Choose best L1 penalty using a validation set.\n",
    "* Choose best L1 penalty using a validation set, with additional constraint on the size of subset."
   ]
  },
  {
   "cell_type": "code",
   "execution_count": 1,
   "metadata": {
    "collapsed": false
   },
   "outputs": [
    {
     "name": "stdout",
     "output_type": "stream",
     "text": [
      "This non-commercial license of GraphLab Create for academic use is assigned to aguha2@jhu.edu and will expire on February 11, 2017.\n"
     ]
    },
    {
     "name": "stderr",
     "output_type": "stream",
     "text": [
      "[INFO] graphlab.cython.cy_server: GraphLab Create v2.1 started. Logging: /tmp/graphlab_server_1473048252.log\n"
     ]
    }
   ],
   "source": [
    "import graphlab\n",
    "import math\n",
    "import random\n",
    "import numpy\n",
    "from matplotlib import pyplot as plt\n",
    "%matplotlib inline"
   ]
  },
  {
   "cell_type": "markdown",
   "metadata": {},
   "source": [
    "# Load in house sales data\n",
    "\n",
    "Dataset is from house sales in King County, the region where the city of Seattle, WA is located."
   ]
  },
  {
   "cell_type": "code",
   "execution_count": 2,
   "metadata": {
    "collapsed": false,
    "scrolled": true
   },
   "outputs": [],
   "source": [
    "sales = graphlab.SFrame('kc_house_data.gl/')"
   ]
  },
  {
   "cell_type": "markdown",
   "metadata": {},
   "source": [
    "# Create new features"
   ]
  },
  {
   "cell_type": "code",
   "execution_count": 3,
   "metadata": {
    "collapsed": true
   },
   "outputs": [],
   "source": [
    "from math import log, sqrt\n",
    "sales['sqft_living_sqrt'] = sales['sqft_living'].apply(sqrt)\n",
    "sales['sqft_lot_sqrt'] = sales['sqft_lot'].apply(sqrt)\n",
    "sales['bedrooms_square'] = sales['bedrooms']*sales['bedrooms']\n",
    "\n",
    "# In the dataset, 'floors' was defined with type string, \n",
    "# so we'll convert them to float, before creating a new feature.\n",
    "sales['floors'] = sales['floors'].astype(float) \n",
    "sales['floors_square'] = sales['floors']*sales['floors']"
   ]
  },
  {
   "cell_type": "markdown",
   "metadata": {},
   "source": [
    "* Squaring bedrooms will increase the separation between not many bedrooms (e.g. 1) and lots of bedrooms (e.g. 4) since 1^2 = 1 but 4^2 = 16. Consequently this variable will mostly affect houses with many bedrooms.\n",
    "* On the other hand, taking square root of sqft_living will decrease the separation between big house and small house. The owner may not be exactly twice as happy for getting a house that is twice as big."
   ]
  },
  {
   "cell_type": "markdown",
   "metadata": {},
   "source": [
    "# Learn regression weights with L1 penalty"
   ]
  },
  {
   "cell_type": "markdown",
   "metadata": {},
   "source": [
    "Let us fit a model with all the features available, plus the features we just created above."
   ]
  },
  {
   "cell_type": "code",
   "execution_count": 4,
   "metadata": {
    "collapsed": false
   },
   "outputs": [],
   "source": [
    "all_features = ['bedrooms', 'bedrooms_square',\n",
    "            'bathrooms','sqft_living', 'sqft_living_sqrt',\n",
    "            'sqft_lot', 'sqft_lot_sqrt',\n",
    "            'floors', 'floors_square',\n",
    "            'waterfront', 'view', 'condition', 'grade',\n",
    "            'sqft_above',\n",
    "            'sqft_basement',\n",
    "            'yr_built', 'yr_renovated']"
   ]
  },
  {
   "cell_type": "markdown",
   "metadata": {},
   "source": [
    "Applying L1 penalty requires adding an extra parameter (`l1_penalty`) to the linear regression call in GraphLab Create. (Other tools may have separate implementations of LASSO.)  Note that it's important to set `l2_penalty=0` to ensure we don't introduce an additional L2 penalty."
   ]
  },
  {
   "cell_type": "code",
   "execution_count": 5,
   "metadata": {
    "collapsed": false,
    "scrolled": true
   },
   "outputs": [
    {
     "data": {
      "text/html": [
       "<pre>Linear regression:</pre>"
      ],
      "text/plain": [
       "Linear regression:"
      ]
     },
     "metadata": {},
     "output_type": "display_data"
    },
    {
     "data": {
      "text/html": [
       "<pre>--------------------------------------------------------</pre>"
      ],
      "text/plain": [
       "--------------------------------------------------------"
      ]
     },
     "metadata": {},
     "output_type": "display_data"
    },
    {
     "data": {
      "text/html": [
       "<pre>Number of examples          : 21613</pre>"
      ],
      "text/plain": [
       "Number of examples          : 21613"
      ]
     },
     "metadata": {},
     "output_type": "display_data"
    },
    {
     "data": {
      "text/html": [
       "<pre>Number of features          : 17</pre>"
      ],
      "text/plain": [
       "Number of features          : 17"
      ]
     },
     "metadata": {},
     "output_type": "display_data"
    },
    {
     "data": {
      "text/html": [
       "<pre>Number of unpacked features : 17</pre>"
      ],
      "text/plain": [
       "Number of unpacked features : 17"
      ]
     },
     "metadata": {},
     "output_type": "display_data"
    },
    {
     "data": {
      "text/html": [
       "<pre>Number of coefficients    : 18</pre>"
      ],
      "text/plain": [
       "Number of coefficients    : 18"
      ]
     },
     "metadata": {},
     "output_type": "display_data"
    },
    {
     "data": {
      "text/html": [
       "<pre>Starting Accelerated Gradient (FISTA)</pre>"
      ],
      "text/plain": [
       "Starting Accelerated Gradient (FISTA)"
      ]
     },
     "metadata": {},
     "output_type": "display_data"
    },
    {
     "data": {
      "text/html": [
       "<pre>--------------------------------------------------------</pre>"
      ],
      "text/plain": [
       "--------------------------------------------------------"
      ]
     },
     "metadata": {},
     "output_type": "display_data"
    },
    {
     "data": {
      "text/html": [
       "<pre>+-----------+----------+-----------+--------------+--------------------+---------------+</pre>"
      ],
      "text/plain": [
       "+-----------+----------+-----------+--------------+--------------------+---------------+"
      ]
     },
     "metadata": {},
     "output_type": "display_data"
    },
    {
     "data": {
      "text/html": [
       "<pre>| Iteration | Passes   | Step size | Elapsed Time | Training-max_error | Training-rmse |</pre>"
      ],
      "text/plain": [
       "| Iteration | Passes   | Step size | Elapsed Time | Training-max_error | Training-rmse |"
      ]
     },
     "metadata": {},
     "output_type": "display_data"
    },
    {
     "data": {
      "text/html": [
       "<pre>+-----------+----------+-----------+--------------+--------------------+---------------+</pre>"
      ],
      "text/plain": [
       "+-----------+----------+-----------+--------------+--------------------+---------------+"
      ]
     },
     "metadata": {},
     "output_type": "display_data"
    },
    {
     "data": {
      "text/html": [
       "<pre>Tuning step size. First iteration could take longer than subsequent iterations.</pre>"
      ],
      "text/plain": [
       "Tuning step size. First iteration could take longer than subsequent iterations."
      ]
     },
     "metadata": {},
     "output_type": "display_data"
    },
    {
     "data": {
      "text/html": [
       "<pre>| 1         | 2        | 0.000002  | 1.500039     | 6962915.603493     | 426631.749026 |</pre>"
      ],
      "text/plain": [
       "| 1         | 2        | 0.000002  | 1.500039     | 6962915.603493     | 426631.749026 |"
      ]
     },
     "metadata": {},
     "output_type": "display_data"
    },
    {
     "data": {
      "text/html": [
       "<pre>| 2         | 3        | 0.000002  | 1.546134     | 6843144.200219     | 392488.929838 |</pre>"
      ],
      "text/plain": [
       "| 2         | 3        | 0.000002  | 1.546134     | 6843144.200219     | 392488.929838 |"
      ]
     },
     "metadata": {},
     "output_type": "display_data"
    },
    {
     "data": {
      "text/html": [
       "<pre>| 3         | 4        | 0.000002  | 1.594745     | 6831900.032123     | 385340.166783 |</pre>"
      ],
      "text/plain": [
       "| 3         | 4        | 0.000002  | 1.594745     | 6831900.032123     | 385340.166783 |"
      ]
     },
     "metadata": {},
     "output_type": "display_data"
    },
    {
     "data": {
      "text/html": [
       "<pre>| 4         | 5        | 0.000002  | 1.642251     | 6847166.848958     | 384842.383767 |</pre>"
      ],
      "text/plain": [
       "| 4         | 5        | 0.000002  | 1.642251     | 6847166.848958     | 384842.383767 |"
      ]
     },
     "metadata": {},
     "output_type": "display_data"
    },
    {
     "data": {
      "text/html": [
       "<pre>| 5         | 6        | 0.000002  | 1.690934     | 6869667.895833     | 385998.458623 |</pre>"
      ],
      "text/plain": [
       "| 5         | 6        | 0.000002  | 1.690934     | 6869667.895833     | 385998.458623 |"
      ]
     },
     "metadata": {},
     "output_type": "display_data"
    },
    {
     "data": {
      "text/html": [
       "<pre>| 6         | 7        | 0.000002  | 1.739669     | 6847177.773672     | 380824.455891 |</pre>"
      ],
      "text/plain": [
       "| 6         | 7        | 0.000002  | 1.739669     | 6847177.773672     | 380824.455891 |"
      ]
     },
     "metadata": {},
     "output_type": "display_data"
    },
    {
     "data": {
      "text/html": [
       "<pre>+-----------+----------+-----------+--------------+--------------------+---------------+</pre>"
      ],
      "text/plain": [
       "+-----------+----------+-----------+--------------+--------------------+---------------+"
      ]
     },
     "metadata": {},
     "output_type": "display_data"
    },
    {
     "data": {
      "text/html": [
       "<pre>TERMINATED: Iteration limit reached.</pre>"
      ],
      "text/plain": [
       "TERMINATED: Iteration limit reached."
      ]
     },
     "metadata": {},
     "output_type": "display_data"
    },
    {
     "data": {
      "text/html": [
       "<pre>This model may not be optimal. To improve it, consider increasing `max_iterations`.</pre>"
      ],
      "text/plain": [
       "This model may not be optimal. To improve it, consider increasing `max_iterations`."
      ]
     },
     "metadata": {},
     "output_type": "display_data"
    }
   ],
   "source": [
    "model_all = graphlab.linear_regression.create(sales, target='price', features=all_features,\n",
    "                                              validation_set=None, \n",
    "                                              l2_penalty=0., l1_penalty=1e10)"
   ]
  },
  {
   "cell_type": "code",
   "execution_count": 6,
   "metadata": {
    "collapsed": false
   },
   "outputs": [],
   "source": [
    "def print_coefficients(model):    \n",
    "    # Get the degree of the polynomial\n",
    "    deg = len(model.coefficients['value'])-1\n",
    "\n",
    "    # Get learned parameters as a list\n",
    "    w = list(model.coefficients['value'])\n",
    "    \n",
    "    #for i in range(deg+1):        \n",
    "        #if w[i] !=0:\n",
    "            #print i\n",
    "            #print all_features[i-1]\n",
    "    \n",
    "\n",
    "    # Numpy has a nifty function to print out polynomials in a pretty way\n",
    "    # (We'll use it, but it needs the parameters in the reverse order)\n",
    "    print 'Learned polynomial for degree ' + str(deg) + ':'\n",
    "    w.reverse()\n",
    "    print numpy.poly1d(w)"
   ]
  },
  {
   "cell_type": "code",
   "execution_count": 7,
   "metadata": {
    "collapsed": false
   },
   "outputs": [],
   "source": [
    "def plot_data(data):    \n",
    "    plt.plot(data,data['price'],'k.')\n",
    "    plt.xlabel('x')\n",
    "    plt.ylabel('y')\n",
    "\n",
    "#plot_data(sales)"
   ]
  },
  {
   "cell_type": "code",
   "execution_count": 8,
   "metadata": {
    "collapsed": true
   },
   "outputs": [],
   "source": [
    "def plot_poly_predictions(data, model):\n",
    "    plot_data(data)\n",
    "\n",
    "    # Get the degree of the polynomial\n",
    "    deg = len(model.coefficients['value'])-1\n",
    "    \n",
    "    # Create 200 points in the x axis and compute the predicted value for each point\n",
    "    #x_pred = graphlab.SFrame({'X1':[i/200.0 for i in range(200)]})\n",
    "    y_pred = model.predict(polynomial_features(x_pred,deg))\n",
    "    \n",
    "    # plot predictions\n",
    "    plt.plot(x_pred, y_pred, 'g-', label='degree ' + str(deg) + ' fit')\n",
    "    plt.legend(loc='upper left')\n",
    "    #plt.axis([0,1,-1.5,2])"
   ]
  },
  {
   "cell_type": "markdown",
   "metadata": {},
   "source": [
    "Find what features had non-zero weight."
   ]
  },
  {
   "cell_type": "code",
   "execution_count": 10,
   "metadata": {
    "collapsed": false
   },
   "outputs": [
    {
     "name": "stdout",
     "output_type": "stream",
     "text": [
      "number of nonzeros = 6\n",
      "Learned polynomial for degree 17:\n",
      "       14         13         5         4        3\n",
      "20.02 x  + 842.1 x  + 350.1 x + 24.42 x + 8469 x + 2.749e+05\n",
      "\n",
      "\n"
     ]
    }
   ],
   "source": [
    "print 'number of nonzeros = %d' % (model_all.coefficients['value']).nnz()\n",
    "print_coefficients(model_all)\n",
    "print '\\n'\n",
    "# plt.figure()\n",
    "# plot_poly_predictions(sales,model_all)\n",
    "# plt.title('LASSO, lambda = %.2e, # nonzeros = %d' % (l1_penalty, (model_all.coefficients['value']).nnz()))"
   ]
  },
  {
   "cell_type": "markdown",
   "metadata": {},
   "source": [
    "Note that a majority of the weights have been set to zero. So by setting an L1 penalty that's large enough, we are performing a subset selection. "
   ]
  },
  {
   "cell_type": "markdown",
   "metadata": {},
   "source": [
    "# Selecting an L1 penalty"
   ]
  },
  {
   "cell_type": "markdown",
   "metadata": {},
   "source": [
    "To find a good L1 penalty, we will explore multiple values using a validation set. Let us do three way split into train, validation, and test sets:\n",
    "* Split our sales data into 2 sets: training and test\n",
    "* Further split our training data into two sets: train, validation\n",
    "\n",
    "Be *very* careful that you use seed = 1 to ensure you get the same answer!"
   ]
  },
  {
   "cell_type": "code",
   "execution_count": 11,
   "metadata": {
    "collapsed": true
   },
   "outputs": [],
   "source": [
    "(training_and_validation, testing) = sales.random_split(.9,seed=1) # initial train/test split\n",
    "(training, validation) = training_and_validation.random_split(0.5, seed=1) # split training into train and validate"
   ]
  },
  {
   "cell_type": "code",
   "execution_count": 12,
   "metadata": {
    "collapsed": false
   },
   "outputs": [],
   "source": [
    "def validation_sframe(dataset,features):\n",
    "    # initialize the SFrame:\n",
    "    poly_sframe = graphlab.SFrame()\n",
    "    #poly_sframe['price'] = dataset['price']\n",
    "    \n",
    "    for i in range(0, len(features)): \n",
    "            name = str(features[i])\n",
    "            poly_sframe[name] = dataset[name]\n",
    "    return poly_sframe"
   ]
  },
  {
   "cell_type": "code",
   "execution_count": 13,
   "metadata": {
    "collapsed": false
   },
   "outputs": [
    {
     "data": {
      "text/html": [
       "<div style=\"max-height:1000px;max-width:1500px;overflow:auto;\"><table frame=\"box\" rules=\"cols\">\n",
       "    <tr>\n",
       "        <th style=\"padding-left: 1em; padding-right: 1em; text-align: center\">bedrooms</th>\n",
       "        <th style=\"padding-left: 1em; padding-right: 1em; text-align: center\">bedrooms_square</th>\n",
       "        <th style=\"padding-left: 1em; padding-right: 1em; text-align: center\">bathrooms</th>\n",
       "        <th style=\"padding-left: 1em; padding-right: 1em; text-align: center\">sqft_living</th>\n",
       "        <th style=\"padding-left: 1em; padding-right: 1em; text-align: center\">sqft_living_sqrt</th>\n",
       "        <th style=\"padding-left: 1em; padding-right: 1em; text-align: center\">sqft_lot</th>\n",
       "        <th style=\"padding-left: 1em; padding-right: 1em; text-align: center\">sqft_lot_sqrt</th>\n",
       "        <th style=\"padding-left: 1em; padding-right: 1em; text-align: center\">floors</th>\n",
       "        <th style=\"padding-left: 1em; padding-right: 1em; text-align: center\">floors_square</th>\n",
       "    </tr>\n",
       "    <tr>\n",
       "        <td style=\"padding-left: 1em; padding-right: 1em; text-align: center; vertical-align: top\">3.0</td>\n",
       "        <td style=\"padding-left: 1em; padding-right: 1em; text-align: center; vertical-align: top\">9.0</td>\n",
       "        <td style=\"padding-left: 1em; padding-right: 1em; text-align: center; vertical-align: top\">1.0</td>\n",
       "        <td style=\"padding-left: 1em; padding-right: 1em; text-align: center; vertical-align: top\">1180.0</td>\n",
       "        <td style=\"padding-left: 1em; padding-right: 1em; text-align: center; vertical-align: top\">34.3511280746</td>\n",
       "        <td style=\"padding-left: 1em; padding-right: 1em; text-align: center; vertical-align: top\">5650</td>\n",
       "        <td style=\"padding-left: 1em; padding-right: 1em; text-align: center; vertical-align: top\">75.1664818919</td>\n",
       "        <td style=\"padding-left: 1em; padding-right: 1em; text-align: center; vertical-align: top\">1.0</td>\n",
       "        <td style=\"padding-left: 1em; padding-right: 1em; text-align: center; vertical-align: top\">1.0</td>\n",
       "    </tr>\n",
       "    <tr>\n",
       "        <td style=\"padding-left: 1em; padding-right: 1em; text-align: center; vertical-align: top\">3.0</td>\n",
       "        <td style=\"padding-left: 1em; padding-right: 1em; text-align: center; vertical-align: top\">9.0</td>\n",
       "        <td style=\"padding-left: 1em; padding-right: 1em; text-align: center; vertical-align: top\">2.25</td>\n",
       "        <td style=\"padding-left: 1em; padding-right: 1em; text-align: center; vertical-align: top\">2570.0</td>\n",
       "        <td style=\"padding-left: 1em; padding-right: 1em; text-align: center; vertical-align: top\">50.6951674225</td>\n",
       "        <td style=\"padding-left: 1em; padding-right: 1em; text-align: center; vertical-align: top\">7242</td>\n",
       "        <td style=\"padding-left: 1em; padding-right: 1em; text-align: center; vertical-align: top\">85.0999412456</td>\n",
       "        <td style=\"padding-left: 1em; padding-right: 1em; text-align: center; vertical-align: top\">2.0</td>\n",
       "        <td style=\"padding-left: 1em; padding-right: 1em; text-align: center; vertical-align: top\">4.0</td>\n",
       "    </tr>\n",
       "    <tr>\n",
       "        <td style=\"padding-left: 1em; padding-right: 1em; text-align: center; vertical-align: top\">2.0</td>\n",
       "        <td style=\"padding-left: 1em; padding-right: 1em; text-align: center; vertical-align: top\">4.0</td>\n",
       "        <td style=\"padding-left: 1em; padding-right: 1em; text-align: center; vertical-align: top\">1.0</td>\n",
       "        <td style=\"padding-left: 1em; padding-right: 1em; text-align: center; vertical-align: top\">770.0</td>\n",
       "        <td style=\"padding-left: 1em; padding-right: 1em; text-align: center; vertical-align: top\">27.748873851</td>\n",
       "        <td style=\"padding-left: 1em; padding-right: 1em; text-align: center; vertical-align: top\">10000</td>\n",
       "        <td style=\"padding-left: 1em; padding-right: 1em; text-align: center; vertical-align: top\">100.0</td>\n",
       "        <td style=\"padding-left: 1em; padding-right: 1em; text-align: center; vertical-align: top\">1.0</td>\n",
       "        <td style=\"padding-left: 1em; padding-right: 1em; text-align: center; vertical-align: top\">1.0</td>\n",
       "    </tr>\n",
       "    <tr>\n",
       "        <td style=\"padding-left: 1em; padding-right: 1em; text-align: center; vertical-align: top\">3.0</td>\n",
       "        <td style=\"padding-left: 1em; padding-right: 1em; text-align: center; vertical-align: top\">9.0</td>\n",
       "        <td style=\"padding-left: 1em; padding-right: 1em; text-align: center; vertical-align: top\">2.0</td>\n",
       "        <td style=\"padding-left: 1em; padding-right: 1em; text-align: center; vertical-align: top\">1680.0</td>\n",
       "        <td style=\"padding-left: 1em; padding-right: 1em; text-align: center; vertical-align: top\">40.9878030638</td>\n",
       "        <td style=\"padding-left: 1em; padding-right: 1em; text-align: center; vertical-align: top\">8080</td>\n",
       "        <td style=\"padding-left: 1em; padding-right: 1em; text-align: center; vertical-align: top\">89.888820217</td>\n",
       "        <td style=\"padding-left: 1em; padding-right: 1em; text-align: center; vertical-align: top\">1.0</td>\n",
       "        <td style=\"padding-left: 1em; padding-right: 1em; text-align: center; vertical-align: top\">1.0</td>\n",
       "    </tr>\n",
       "    <tr>\n",
       "        <td style=\"padding-left: 1em; padding-right: 1em; text-align: center; vertical-align: top\">3.0</td>\n",
       "        <td style=\"padding-left: 1em; padding-right: 1em; text-align: center; vertical-align: top\">9.0</td>\n",
       "        <td style=\"padding-left: 1em; padding-right: 1em; text-align: center; vertical-align: top\">2.25</td>\n",
       "        <td style=\"padding-left: 1em; padding-right: 1em; text-align: center; vertical-align: top\">1715.0</td>\n",
       "        <td style=\"padding-left: 1em; padding-right: 1em; text-align: center; vertical-align: top\">41.4125584817</td>\n",
       "        <td style=\"padding-left: 1em; padding-right: 1em; text-align: center; vertical-align: top\">6819</td>\n",
       "        <td style=\"padding-left: 1em; padding-right: 1em; text-align: center; vertical-align: top\">82.5772365728</td>\n",
       "        <td style=\"padding-left: 1em; padding-right: 1em; text-align: center; vertical-align: top\">2.0</td>\n",
       "        <td style=\"padding-left: 1em; padding-right: 1em; text-align: center; vertical-align: top\">4.0</td>\n",
       "    </tr>\n",
       "    <tr>\n",
       "        <td style=\"padding-left: 1em; padding-right: 1em; text-align: center; vertical-align: top\">3.0</td>\n",
       "        <td style=\"padding-left: 1em; padding-right: 1em; text-align: center; vertical-align: top\">9.0</td>\n",
       "        <td style=\"padding-left: 1em; padding-right: 1em; text-align: center; vertical-align: top\">1.5</td>\n",
       "        <td style=\"padding-left: 1em; padding-right: 1em; text-align: center; vertical-align: top\">1060.0</td>\n",
       "        <td style=\"padding-left: 1em; padding-right: 1em; text-align: center; vertical-align: top\">32.5576411922</td>\n",
       "        <td style=\"padding-left: 1em; padding-right: 1em; text-align: center; vertical-align: top\">9711</td>\n",
       "        <td style=\"padding-left: 1em; padding-right: 1em; text-align: center; vertical-align: top\">98.5444062339</td>\n",
       "        <td style=\"padding-left: 1em; padding-right: 1em; text-align: center; vertical-align: top\">1.0</td>\n",
       "        <td style=\"padding-left: 1em; padding-right: 1em; text-align: center; vertical-align: top\">1.0</td>\n",
       "    </tr>\n",
       "    <tr>\n",
       "        <td style=\"padding-left: 1em; padding-right: 1em; text-align: center; vertical-align: top\">3.0</td>\n",
       "        <td style=\"padding-left: 1em; padding-right: 1em; text-align: center; vertical-align: top\">9.0</td>\n",
       "        <td style=\"padding-left: 1em; padding-right: 1em; text-align: center; vertical-align: top\">1.0</td>\n",
       "        <td style=\"padding-left: 1em; padding-right: 1em; text-align: center; vertical-align: top\">1780.0</td>\n",
       "        <td style=\"padding-left: 1em; padding-right: 1em; text-align: center; vertical-align: top\">42.1900462195</td>\n",
       "        <td style=\"padding-left: 1em; padding-right: 1em; text-align: center; vertical-align: top\">7470</td>\n",
       "        <td style=\"padding-left: 1em; padding-right: 1em; text-align: center; vertical-align: top\">86.4291617453</td>\n",
       "        <td style=\"padding-left: 1em; padding-right: 1em; text-align: center; vertical-align: top\">1.0</td>\n",
       "        <td style=\"padding-left: 1em; padding-right: 1em; text-align: center; vertical-align: top\">1.0</td>\n",
       "    </tr>\n",
       "    <tr>\n",
       "        <td style=\"padding-left: 1em; padding-right: 1em; text-align: center; vertical-align: top\">3.0</td>\n",
       "        <td style=\"padding-left: 1em; padding-right: 1em; text-align: center; vertical-align: top\">9.0</td>\n",
       "        <td style=\"padding-left: 1em; padding-right: 1em; text-align: center; vertical-align: top\">2.5</td>\n",
       "        <td style=\"padding-left: 1em; padding-right: 1em; text-align: center; vertical-align: top\">3560.0</td>\n",
       "        <td style=\"padding-left: 1em; padding-right: 1em; text-align: center; vertical-align: top\">59.6657355607</td>\n",
       "        <td style=\"padding-left: 1em; padding-right: 1em; text-align: center; vertical-align: top\">9796</td>\n",
       "        <td style=\"padding-left: 1em; padding-right: 1em; text-align: center; vertical-align: top\">98.9747442533</td>\n",
       "        <td style=\"padding-left: 1em; padding-right: 1em; text-align: center; vertical-align: top\">1.0</td>\n",
       "        <td style=\"padding-left: 1em; padding-right: 1em; text-align: center; vertical-align: top\">1.0</td>\n",
       "    </tr>\n",
       "    <tr>\n",
       "        <td style=\"padding-left: 1em; padding-right: 1em; text-align: center; vertical-align: top\">3.0</td>\n",
       "        <td style=\"padding-left: 1em; padding-right: 1em; text-align: center; vertical-align: top\">9.0</td>\n",
       "        <td style=\"padding-left: 1em; padding-right: 1em; text-align: center; vertical-align: top\">2.0</td>\n",
       "        <td style=\"padding-left: 1em; padding-right: 1em; text-align: center; vertical-align: top\">1890.0</td>\n",
       "        <td style=\"padding-left: 1em; padding-right: 1em; text-align: center; vertical-align: top\">43.4741302386</td>\n",
       "        <td style=\"padding-left: 1em; padding-right: 1em; text-align: center; vertical-align: top\">14040</td>\n",
       "        <td style=\"padding-left: 1em; padding-right: 1em; text-align: center; vertical-align: top\">118.490505949</td>\n",
       "        <td style=\"padding-left: 1em; padding-right: 1em; text-align: center; vertical-align: top\">2.0</td>\n",
       "        <td style=\"padding-left: 1em; padding-right: 1em; text-align: center; vertical-align: top\">4.0</td>\n",
       "    </tr>\n",
       "    <tr>\n",
       "        <td style=\"padding-left: 1em; padding-right: 1em; text-align: center; vertical-align: top\">3.0</td>\n",
       "        <td style=\"padding-left: 1em; padding-right: 1em; text-align: center; vertical-align: top\">9.0</td>\n",
       "        <td style=\"padding-left: 1em; padding-right: 1em; text-align: center; vertical-align: top\">1.0</td>\n",
       "        <td style=\"padding-left: 1em; padding-right: 1em; text-align: center; vertical-align: top\">1250.0</td>\n",
       "        <td style=\"padding-left: 1em; padding-right: 1em; text-align: center; vertical-align: top\">35.3553390593</td>\n",
       "        <td style=\"padding-left: 1em; padding-right: 1em; text-align: center; vertical-align: top\">9774</td>\n",
       "        <td style=\"padding-left: 1em; padding-right: 1em; text-align: center; vertical-align: top\">98.8635423197</td>\n",
       "        <td style=\"padding-left: 1em; padding-right: 1em; text-align: center; vertical-align: top\">1.0</td>\n",
       "        <td style=\"padding-left: 1em; padding-right: 1em; text-align: center; vertical-align: top\">1.0</td>\n",
       "    </tr>\n",
       "</table>\n",
       "<table frame=\"box\" rules=\"cols\">\n",
       "    <tr>\n",
       "        <th style=\"padding-left: 1em; padding-right: 1em; text-align: center\">waterfront</th>\n",
       "        <th style=\"padding-left: 1em; padding-right: 1em; text-align: center\">view</th>\n",
       "        <th style=\"padding-left: 1em; padding-right: 1em; text-align: center\">condition</th>\n",
       "        <th style=\"padding-left: 1em; padding-right: 1em; text-align: center\">grade</th>\n",
       "        <th style=\"padding-left: 1em; padding-right: 1em; text-align: center\">sqft_above</th>\n",
       "        <th style=\"padding-left: 1em; padding-right: 1em; text-align: center\">sqft_basement</th>\n",
       "        <th style=\"padding-left: 1em; padding-right: 1em; text-align: center\">yr_built</th>\n",
       "        <th style=\"padding-left: 1em; padding-right: 1em; text-align: center\">yr_renovated</th>\n",
       "    </tr>\n",
       "    <tr>\n",
       "        <td style=\"padding-left: 1em; padding-right: 1em; text-align: center; vertical-align: top\">0</td>\n",
       "        <td style=\"padding-left: 1em; padding-right: 1em; text-align: center; vertical-align: top\">0</td>\n",
       "        <td style=\"padding-left: 1em; padding-right: 1em; text-align: center; vertical-align: top\">3</td>\n",
       "        <td style=\"padding-left: 1em; padding-right: 1em; text-align: center; vertical-align: top\">7</td>\n",
       "        <td style=\"padding-left: 1em; padding-right: 1em; text-align: center; vertical-align: top\">1180</td>\n",
       "        <td style=\"padding-left: 1em; padding-right: 1em; text-align: center; vertical-align: top\">0</td>\n",
       "        <td style=\"padding-left: 1em; padding-right: 1em; text-align: center; vertical-align: top\">1955</td>\n",
       "        <td style=\"padding-left: 1em; padding-right: 1em; text-align: center; vertical-align: top\">0</td>\n",
       "    </tr>\n",
       "    <tr>\n",
       "        <td style=\"padding-left: 1em; padding-right: 1em; text-align: center; vertical-align: top\">0</td>\n",
       "        <td style=\"padding-left: 1em; padding-right: 1em; text-align: center; vertical-align: top\">0</td>\n",
       "        <td style=\"padding-left: 1em; padding-right: 1em; text-align: center; vertical-align: top\">3</td>\n",
       "        <td style=\"padding-left: 1em; padding-right: 1em; text-align: center; vertical-align: top\">7</td>\n",
       "        <td style=\"padding-left: 1em; padding-right: 1em; text-align: center; vertical-align: top\">2170</td>\n",
       "        <td style=\"padding-left: 1em; padding-right: 1em; text-align: center; vertical-align: top\">400</td>\n",
       "        <td style=\"padding-left: 1em; padding-right: 1em; text-align: center; vertical-align: top\">1951</td>\n",
       "        <td style=\"padding-left: 1em; padding-right: 1em; text-align: center; vertical-align: top\">1991</td>\n",
       "    </tr>\n",
       "    <tr>\n",
       "        <td style=\"padding-left: 1em; padding-right: 1em; text-align: center; vertical-align: top\">0</td>\n",
       "        <td style=\"padding-left: 1em; padding-right: 1em; text-align: center; vertical-align: top\">0</td>\n",
       "        <td style=\"padding-left: 1em; padding-right: 1em; text-align: center; vertical-align: top\">3</td>\n",
       "        <td style=\"padding-left: 1em; padding-right: 1em; text-align: center; vertical-align: top\">6</td>\n",
       "        <td style=\"padding-left: 1em; padding-right: 1em; text-align: center; vertical-align: top\">770</td>\n",
       "        <td style=\"padding-left: 1em; padding-right: 1em; text-align: center; vertical-align: top\">0</td>\n",
       "        <td style=\"padding-left: 1em; padding-right: 1em; text-align: center; vertical-align: top\">1933</td>\n",
       "        <td style=\"padding-left: 1em; padding-right: 1em; text-align: center; vertical-align: top\">0</td>\n",
       "    </tr>\n",
       "    <tr>\n",
       "        <td style=\"padding-left: 1em; padding-right: 1em; text-align: center; vertical-align: top\">0</td>\n",
       "        <td style=\"padding-left: 1em; padding-right: 1em; text-align: center; vertical-align: top\">0</td>\n",
       "        <td style=\"padding-left: 1em; padding-right: 1em; text-align: center; vertical-align: top\">3</td>\n",
       "        <td style=\"padding-left: 1em; padding-right: 1em; text-align: center; vertical-align: top\">8</td>\n",
       "        <td style=\"padding-left: 1em; padding-right: 1em; text-align: center; vertical-align: top\">1680</td>\n",
       "        <td style=\"padding-left: 1em; padding-right: 1em; text-align: center; vertical-align: top\">0</td>\n",
       "        <td style=\"padding-left: 1em; padding-right: 1em; text-align: center; vertical-align: top\">1987</td>\n",
       "        <td style=\"padding-left: 1em; padding-right: 1em; text-align: center; vertical-align: top\">0</td>\n",
       "    </tr>\n",
       "    <tr>\n",
       "        <td style=\"padding-left: 1em; padding-right: 1em; text-align: center; vertical-align: top\">0</td>\n",
       "        <td style=\"padding-left: 1em; padding-right: 1em; text-align: center; vertical-align: top\">0</td>\n",
       "        <td style=\"padding-left: 1em; padding-right: 1em; text-align: center; vertical-align: top\">3</td>\n",
       "        <td style=\"padding-left: 1em; padding-right: 1em; text-align: center; vertical-align: top\">7</td>\n",
       "        <td style=\"padding-left: 1em; padding-right: 1em; text-align: center; vertical-align: top\">1715</td>\n",
       "        <td style=\"padding-left: 1em; padding-right: 1em; text-align: center; vertical-align: top\">0</td>\n",
       "        <td style=\"padding-left: 1em; padding-right: 1em; text-align: center; vertical-align: top\">1995</td>\n",
       "        <td style=\"padding-left: 1em; padding-right: 1em; text-align: center; vertical-align: top\">0</td>\n",
       "    </tr>\n",
       "    <tr>\n",
       "        <td style=\"padding-left: 1em; padding-right: 1em; text-align: center; vertical-align: top\">0</td>\n",
       "        <td style=\"padding-left: 1em; padding-right: 1em; text-align: center; vertical-align: top\">0</td>\n",
       "        <td style=\"padding-left: 1em; padding-right: 1em; text-align: center; vertical-align: top\">3</td>\n",
       "        <td style=\"padding-left: 1em; padding-right: 1em; text-align: center; vertical-align: top\">7</td>\n",
       "        <td style=\"padding-left: 1em; padding-right: 1em; text-align: center; vertical-align: top\">1060</td>\n",
       "        <td style=\"padding-left: 1em; padding-right: 1em; text-align: center; vertical-align: top\">0</td>\n",
       "        <td style=\"padding-left: 1em; padding-right: 1em; text-align: center; vertical-align: top\">1963</td>\n",
       "        <td style=\"padding-left: 1em; padding-right: 1em; text-align: center; vertical-align: top\">0</td>\n",
       "    </tr>\n",
       "    <tr>\n",
       "        <td style=\"padding-left: 1em; padding-right: 1em; text-align: center; vertical-align: top\">0</td>\n",
       "        <td style=\"padding-left: 1em; padding-right: 1em; text-align: center; vertical-align: top\">0</td>\n",
       "        <td style=\"padding-left: 1em; padding-right: 1em; text-align: center; vertical-align: top\">3</td>\n",
       "        <td style=\"padding-left: 1em; padding-right: 1em; text-align: center; vertical-align: top\">7</td>\n",
       "        <td style=\"padding-left: 1em; padding-right: 1em; text-align: center; vertical-align: top\">1050</td>\n",
       "        <td style=\"padding-left: 1em; padding-right: 1em; text-align: center; vertical-align: top\">730</td>\n",
       "        <td style=\"padding-left: 1em; padding-right: 1em; text-align: center; vertical-align: top\">1960</td>\n",
       "        <td style=\"padding-left: 1em; padding-right: 1em; text-align: center; vertical-align: top\">0</td>\n",
       "    </tr>\n",
       "    <tr>\n",
       "        <td style=\"padding-left: 1em; padding-right: 1em; text-align: center; vertical-align: top\">0</td>\n",
       "        <td style=\"padding-left: 1em; padding-right: 1em; text-align: center; vertical-align: top\">0</td>\n",
       "        <td style=\"padding-left: 1em; padding-right: 1em; text-align: center; vertical-align: top\">3</td>\n",
       "        <td style=\"padding-left: 1em; padding-right: 1em; text-align: center; vertical-align: top\">8</td>\n",
       "        <td style=\"padding-left: 1em; padding-right: 1em; text-align: center; vertical-align: top\">1860</td>\n",
       "        <td style=\"padding-left: 1em; padding-right: 1em; text-align: center; vertical-align: top\">1700</td>\n",
       "        <td style=\"padding-left: 1em; padding-right: 1em; text-align: center; vertical-align: top\">1965</td>\n",
       "        <td style=\"padding-left: 1em; padding-right: 1em; text-align: center; vertical-align: top\">0</td>\n",
       "    </tr>\n",
       "    <tr>\n",
       "        <td style=\"padding-left: 1em; padding-right: 1em; text-align: center; vertical-align: top\">0</td>\n",
       "        <td style=\"padding-left: 1em; padding-right: 1em; text-align: center; vertical-align: top\">0</td>\n",
       "        <td style=\"padding-left: 1em; padding-right: 1em; text-align: center; vertical-align: top\">3</td>\n",
       "        <td style=\"padding-left: 1em; padding-right: 1em; text-align: center; vertical-align: top\">7</td>\n",
       "        <td style=\"padding-left: 1em; padding-right: 1em; text-align: center; vertical-align: top\">1890</td>\n",
       "        <td style=\"padding-left: 1em; padding-right: 1em; text-align: center; vertical-align: top\">0</td>\n",
       "        <td style=\"padding-left: 1em; padding-right: 1em; text-align: center; vertical-align: top\">1994</td>\n",
       "        <td style=\"padding-left: 1em; padding-right: 1em; text-align: center; vertical-align: top\">0</td>\n",
       "    </tr>\n",
       "    <tr>\n",
       "        <td style=\"padding-left: 1em; padding-right: 1em; text-align: center; vertical-align: top\">0</td>\n",
       "        <td style=\"padding-left: 1em; padding-right: 1em; text-align: center; vertical-align: top\">0</td>\n",
       "        <td style=\"padding-left: 1em; padding-right: 1em; text-align: center; vertical-align: top\">4</td>\n",
       "        <td style=\"padding-left: 1em; padding-right: 1em; text-align: center; vertical-align: top\">7</td>\n",
       "        <td style=\"padding-left: 1em; padding-right: 1em; text-align: center; vertical-align: top\">1250</td>\n",
       "        <td style=\"padding-left: 1em; padding-right: 1em; text-align: center; vertical-align: top\">0</td>\n",
       "        <td style=\"padding-left: 1em; padding-right: 1em; text-align: center; vertical-align: top\">1969</td>\n",
       "        <td style=\"padding-left: 1em; padding-right: 1em; text-align: center; vertical-align: top\">0</td>\n",
       "    </tr>\n",
       "</table>\n",
       "[9635 rows x 17 columns]<br/>Note: Only the head of the SFrame is printed.<br/>You can use print_rows(num_rows=m, num_columns=n) to print more rows and columns.\n",
       "</div>"
      ],
      "text/plain": [
       "Columns:\n",
       "\tbedrooms\tfloat\n",
       "\tbedrooms_square\tfloat\n",
       "\tbathrooms\tfloat\n",
       "\tsqft_living\tfloat\n",
       "\tsqft_living_sqrt\tfloat\n",
       "\tsqft_lot\tint\n",
       "\tsqft_lot_sqrt\tfloat\n",
       "\tfloors\tfloat\n",
       "\tfloors_square\tfloat\n",
       "\twaterfront\tint\n",
       "\tview\tint\n",
       "\tcondition\tint\n",
       "\tgrade\tint\n",
       "\tsqft_above\tint\n",
       "\tsqft_basement\tint\n",
       "\tyr_built\tint\n",
       "\tyr_renovated\tint\n",
       "\n",
       "Rows: 9635\n",
       "\n",
       "Data:\n",
       "+----------+-----------------+-----------+-------------+------------------+\n",
       "| bedrooms | bedrooms_square | bathrooms | sqft_living | sqft_living_sqrt |\n",
       "+----------+-----------------+-----------+-------------+------------------+\n",
       "|   3.0    |       9.0       |    1.0    |    1180.0   |  34.3511280746   |\n",
       "|   3.0    |       9.0       |    2.25   |    2570.0   |  50.6951674225   |\n",
       "|   2.0    |       4.0       |    1.0    |    770.0    |   27.748873851   |\n",
       "|   3.0    |       9.0       |    2.0    |    1680.0   |  40.9878030638   |\n",
       "|   3.0    |       9.0       |    2.25   |    1715.0   |  41.4125584817   |\n",
       "|   3.0    |       9.0       |    1.5    |    1060.0   |  32.5576411922   |\n",
       "|   3.0    |       9.0       |    1.0    |    1780.0   |  42.1900462195   |\n",
       "|   3.0    |       9.0       |    2.5    |    3560.0   |  59.6657355607   |\n",
       "|   3.0    |       9.0       |    2.0    |    1890.0   |  43.4741302386   |\n",
       "|   3.0    |       9.0       |    1.0    |    1250.0   |  35.3553390593   |\n",
       "+----------+-----------------+-----------+-------------+------------------+\n",
       "+----------+---------------+--------+---------------+------------+------+-----------+\n",
       "| sqft_lot | sqft_lot_sqrt | floors | floors_square | waterfront | view | condition |\n",
       "+----------+---------------+--------+---------------+------------+------+-----------+\n",
       "|   5650   | 75.1664818919 |  1.0   |      1.0      |     0      |  0   |     3     |\n",
       "|   7242   | 85.0999412456 |  2.0   |      4.0      |     0      |  0   |     3     |\n",
       "|  10000   |     100.0     |  1.0   |      1.0      |     0      |  0   |     3     |\n",
       "|   8080   |  89.888820217 |  1.0   |      1.0      |     0      |  0   |     3     |\n",
       "|   6819   | 82.5772365728 |  2.0   |      4.0      |     0      |  0   |     3     |\n",
       "|   9711   | 98.5444062339 |  1.0   |      1.0      |     0      |  0   |     3     |\n",
       "|   7470   | 86.4291617453 |  1.0   |      1.0      |     0      |  0   |     3     |\n",
       "|   9796   | 98.9747442533 |  1.0   |      1.0      |     0      |  0   |     3     |\n",
       "|  14040   | 118.490505949 |  2.0   |      4.0      |     0      |  0   |     3     |\n",
       "|   9774   | 98.8635423197 |  1.0   |      1.0      |     0      |  0   |     4     |\n",
       "+----------+---------------+--------+---------------+------------+------+-----------+\n",
       "+-------+------------+---------------+----------+--------------+\n",
       "| grade | sqft_above | sqft_basement | yr_built | yr_renovated |\n",
       "+-------+------------+---------------+----------+--------------+\n",
       "|   7   |    1180    |       0       |   1955   |      0       |\n",
       "|   7   |    2170    |      400      |   1951   |     1991     |\n",
       "|   6   |    770     |       0       |   1933   |      0       |\n",
       "|   8   |    1680    |       0       |   1987   |      0       |\n",
       "|   7   |    1715    |       0       |   1995   |      0       |\n",
       "|   7   |    1060    |       0       |   1963   |      0       |\n",
       "|   7   |    1050    |      730      |   1960   |      0       |\n",
       "|   8   |    1860    |      1700     |   1965   |      0       |\n",
       "|   7   |    1890    |       0       |   1994   |      0       |\n",
       "|   7   |    1250    |       0       |   1969   |      0       |\n",
       "+-------+------------+---------------+----------+--------------+\n",
       "[9635 rows x 17 columns]\n",
       "Note: Only the head of the SFrame is printed.\n",
       "You can use print_rows(num_rows=m, num_columns=n) to print more rows and columns."
      ]
     },
     "execution_count": 13,
     "metadata": {},
     "output_type": "execute_result"
    }
   ],
   "source": [
    "validation_sframe(validation, all_features)"
   ]
  },
  {
   "cell_type": "markdown",
   "metadata": {},
   "source": [
    "Next, we write a loop that does the following:\n",
    "* For `l1_penalty` in [10^1, 10^1.5, 10^2, 10^2.5, ..., 10^7] (to get this in Python, type `np.logspace(1, 7, num=13)`.)\n",
    "    * Fit a regression model with a given `l1_penalty` on TRAIN data. Specify `l1_penalty=l1_penalty` and `l2_penalty=0.` in the parameter list.\n",
    "    * Compute the RSS on VALIDATION data (here you will want to use `.predict()`) for that `l1_penalty`\n",
    "* Report which `l1_penalty` produced the lowest RSS on validation data.\n",
    "\n",
    "When you call `linear_regression.create()` make sure you set `validation_set = None`.\n",
    "\n",
    "Note: you can turn off the print out of `linear_regression.create()` with `verbose = False`"
   ]
  },
  {
   "cell_type": "markdown",
   "metadata": {},
   "source": [
    "# Calculating best L2 penalty"
   ]
  },
  {
   "cell_type": "code",
   "execution_count": 14,
   "metadata": {
    "collapsed": false
   },
   "outputs": [
    {
     "name": "stdout",
     "output_type": "stream",
     "text": [
      "10.0\n",
      "number of nonzeros = 18\n",
      "Learned polynomial for degree 17:\n",
      "       17         16         15         14        13        12\n",
      "56.07 x  + 9.434 x  + 122.4 x  + 43.29 x  + 6207 x  + 6609 x \n",
      "              11             10             9            8         7\n",
      " + 9.331e+04 x  + 6.019e+05 x  + 1.292e+04 x + 2.12e+04 x + 148.3 x\n",
      "             6        5         4             3       2\n",
      " + 0.003484 x + 1125 x + 39.12 x + 2.541e+04 x + 937 x + 7937 x + 1.899e+04\n",
      "6.25766285142e+14\n",
      "\n",
      "\n",
      "31.6227766017\n",
      "number of nonzeros = 18\n",
      "Learned polynomial for degree 17:\n",
      "       17         16         15         14        13        12\n",
      "56.07 x  + 9.434 x  + 122.4 x  + 43.29 x  + 6207 x  + 6609 x \n",
      "              11             10             9            8         7\n",
      " + 9.331e+04 x  + 6.019e+05 x  + 1.292e+04 x + 2.12e+04 x + 148.3 x\n",
      "             6        5         4             3       2\n",
      " + 0.003484 x + 1125 x + 39.12 x + 2.541e+04 x + 937 x + 7937 x + 1.899e+04\n",
      "6.25766285362e+14\n",
      "\n",
      "\n",
      "100.0\n",
      "number of nonzeros = 18\n",
      "Learned polynomial for degree 17:\n",
      "       17         16         15         14        13        12\n",
      "56.07 x  + 9.434 x  + 122.4 x  + 43.29 x  + 6207 x  + 6609 x \n",
      "              11             10             9            8         7\n",
      " + 9.331e+04 x  + 6.019e+05 x  + 1.292e+04 x + 2.12e+04 x + 148.3 x\n",
      "             6        5         4             3       2\n",
      " + 0.003484 x + 1125 x + 39.12 x + 2.541e+04 x + 937 x + 7937 x + 1.899e+04\n",
      "6.25766286058e+14\n",
      "\n",
      "\n",
      "316.227766017\n",
      "number of nonzeros = 18\n",
      "Learned polynomial for degree 17:\n",
      "       17         16         15         14        13        12\n",
      "56.07 x  + 9.434 x  + 122.4 x  + 43.29 x  + 6207 x  + 6609 x \n",
      "              11             10             9            8         7\n",
      " + 9.331e+04 x  + 6.019e+05 x  + 1.292e+04 x + 2.12e+04 x + 148.3 x\n",
      "             6        5         4             3       2\n",
      " + 0.003483 x + 1125 x + 39.12 x + 2.541e+04 x + 937 x + 7937 x + 1.899e+04\n",
      "6.25766288257e+14\n",
      "\n",
      "\n",
      "1000.0\n",
      "number of nonzeros = 18\n",
      "Learned polynomial for degree 17:\n",
      "       17         16         15         14        13        12\n",
      "56.07 x  + 9.434 x  + 122.4 x  + 43.29 x  + 6207 x  + 6609 x \n",
      "              11             10             9            8         7\n",
      " + 9.331e+04 x  + 6.019e+05 x  + 1.292e+04 x + 2.12e+04 x + 148.3 x\n",
      "             6        5         4             3       2\n",
      " + 0.003483 x + 1125 x + 39.12 x + 2.541e+04 x + 937 x + 7937 x + 1.899e+04\n",
      "6.25766295212e+14\n",
      "\n",
      "\n",
      "3162.27766017\n",
      "number of nonzeros = 18\n",
      "Learned polynomial for degree 17:\n",
      "       17         16         15         14        13        12\n",
      "56.07 x  + 9.434 x  + 122.4 x  + 43.29 x  + 6207 x  + 6609 x \n",
      "              11             10             9            8         7\n",
      " + 9.331e+04 x  + 6.019e+05 x  + 1.292e+04 x + 2.12e+04 x + 148.3 x\n",
      "             6        5         4             3       2\n",
      " + 0.003482 x + 1125 x + 39.12 x + 2.541e+04 x + 937 x + 7937 x + 1.899e+04\n",
      "6.25766317206e+14\n",
      "\n",
      "\n",
      "10000.0\n",
      "number of nonzeros = 18\n",
      "Learned polynomial for degree 17:\n",
      "       17         16         15         14        13        12\n",
      "56.07 x  + 9.434 x  + 122.4 x  + 43.29 x  + 6207 x  + 6609 x \n",
      "              11             10             9            8         7\n",
      " + 9.331e+04 x  + 6.019e+05 x  + 1.292e+04 x + 2.12e+04 x + 148.3 x\n",
      "             6        5         4             3       2\n",
      " + 0.003478 x + 1125 x + 39.12 x + 2.541e+04 x + 937 x + 7937 x + 1.899e+04\n",
      "6.25766386761e+14\n",
      "\n",
      "\n",
      "31622.7766017\n",
      "number of nonzeros = 18\n",
      "Learned polynomial for degree 17:\n",
      "       17         16         15         14        13        12\n",
      "56.07 x  + 9.434 x  + 122.4 x  + 43.29 x  + 6207 x  + 6609 x \n",
      "              11             10             9            8         7\n",
      " + 9.331e+04 x  + 6.019e+05 x  + 1.292e+04 x + 2.12e+04 x + 148.3 x\n",
      "             6        5         4             3       2\n",
      " + 0.003465 x + 1125 x + 39.12 x + 2.541e+04 x + 937 x + 7937 x + 1.9e+04\n",
      "6.25766606749e+14\n",
      "\n",
      "\n",
      "100000.0\n",
      "number of nonzeros = 18\n",
      "Learned polynomial for degree 17:\n",
      "       17         16         15         14        13        12\n",
      "56.06 x  + 9.433 x  + 122.4 x  + 43.29 x  + 6207 x  + 6609 x \n",
      "              11             10             9            8         7\n",
      " + 9.331e+04 x  + 6.019e+05 x  + 1.292e+04 x + 2.12e+04 x + 148.3 x\n",
      "             6        5         4             3         2\n",
      " + 0.003425 x + 1125 x + 39.12 x + 2.541e+04 x + 936.9 x + 7937 x + 1.9e+04\n",
      "6.25767302792e+14\n",
      "\n",
      "\n",
      "316227.766017\n",
      "number of nonzeros = 18\n",
      "Learned polynomial for degree 17:\n",
      "       17         16         15         14        13        12\n",
      "56.05 x  + 9.432 x  + 122.4 x  + 43.29 x  + 6207 x  + 6608 x \n",
      "              11             10             9            8         7\n",
      " + 9.331e+04 x  + 6.018e+05 x  + 1.291e+04 x + 2.12e+04 x + 148.2 x\n",
      "             6        5         4             3         2\n",
      " + 0.003297 x + 1125 x + 39.11 x + 2.541e+04 x + 936.7 x + 7937 x + 1.901e+04\n",
      "6.25769507644e+14\n",
      "\n",
      "\n",
      "1000000.0\n",
      "number of nonzeros = 18\n",
      "Learned polynomial for degree 17:\n",
      "    17        16         15         14        13        12\n",
      "56 x  + 9.43 x  + 122.3 x  + 43.28 x  + 6206 x  + 6607 x \n",
      "              11             10             9            8         7\n",
      " + 9.329e+04 x  + 6.016e+05 x  + 1.291e+04 x + 2.12e+04 x + 148.2 x\n",
      "             6        5         4             3         2\n",
      " + 0.002895 x + 1125 x + 39.11 x + 2.541e+04 x + 936.1 x + 7936 x + 1.905e+04\n",
      "6.25776517727e+14\n",
      "\n",
      "\n",
      "3162277.66017\n",
      "number of nonzeros = 18\n",
      "Learned polynomial for degree 17:\n",
      "       17         16         15         14        13        12\n",
      "55.84 x  + 9.421 x  + 122.3 x  + 43.28 x  + 6205 x  + 6601 x \n",
      "              11             10            9             8         7\n",
      " + 9.324e+04 x  + 6.008e+05 x  + 1.29e+04 x + 2.119e+04 x + 148.1 x\n",
      "             6        5         4            3         2\n",
      " + 0.001621 x + 1124 x + 39.11 x + 2.54e+04 x + 934.2 x + 7932 x + 1.919e+04\n",
      "6.25799062845e+14\n",
      "\n",
      "\n",
      "10000000.0\n",
      "number of nonzeros = 18\n",
      "Learned polynomial for degree 17:\n",
      "       17         16       15         14        13        12\n",
      "55.33 x  + 9.395 x  + 122 x  + 43.26 x  + 6200 x  + 6585 x \n",
      "              11             10             9             8         7\n",
      " + 9.309e+04 x  + 5.985e+05 x  + 1.287e+04 x + 2.115e+04 x + 147.9 x\n",
      "             6        5         4             3         2\n",
      " - 0.000824 x + 1124 x + 39.11 x + 2.539e+04 x + 928.1 x + 7923 x + 1.96e+04\n",
      "6.25883719085e+14\n",
      "\n",
      "\n"
     ]
    }
   ],
   "source": [
    "import numpy as np\n",
    "RSS_array=[]\n",
    "RSS_min = 1e100\n",
    "best_l1_penalty=10\n",
    "for l1_penalty in np.logspace(1,7,num=13):\n",
    "    #print l1_penalty\n",
    "    model = graphlab.linear_regression.create(training, target='price', features=all_features,\n",
    "                                              validation_set=None, \n",
    "                                              l2_penalty=0., l1_penalty=l1_penalty, \n",
    "                                                  verbose = False)\n",
    "    print l1_penalty\n",
    "    print 'number of nonzeros = %d' % (model.coefficients['value']).nnz()\n",
    "    print_coefficients(model)\n",
    "    \n",
    "    poly_validdata = validation_sframe(validation, all_features)\n",
    "    poly_validdata['price'] = validation['price'] # add price to the data since it's the target\n",
    "\n",
    "    predictions = model.predict(poly_validdata)\n",
    "        # Then compute the residuals/errors\n",
    "    rss_errors = poly_validdata['price'] - predictions\n",
    "        # Then square and add them up\n",
    "    rss_error_sq= rss_errors*rss_errors\n",
    "        #RSS = RSS_ + str(degree)\n",
    "    RSS=rss_error_sq.sum()\n",
    "    print RSS\n",
    "    RSS_array.append(RSS)\n",
    "    if RSS < RSS_min:\n",
    "        RSS_min=RSS\n",
    "        best_l1_penalty=l1_penalty\n",
    "    \n",
    "    print '\\n'\n",
    "    \n"
   ]
  },
  {
   "cell_type": "code",
   "execution_count": 15,
   "metadata": {
    "collapsed": false
   },
   "outputs": [
    {
     "name": "stdout",
     "output_type": "stream",
     "text": [
      "6.25766285142e+14\n",
      "10.0\n",
      "[625766285142459.9, 625766285362394.1, 625766286057885.0, 625766288257224.6, 625766295212186.8, 625766317206080.5, 625766386760658.1, 625766606749278.5, 625767302791634.1, 625769507643886.2, 625776517727024.0, 625799062845467.0, 625883719085425.2]\n"
     ]
    }
   ],
   "source": [
    "print RSS_min\n",
    "print best_l1_penalty\n",
    "print RSS_array"
   ]
  },
  {
   "cell_type": "code",
   "execution_count": 16,
   "metadata": {
    "collapsed": false
   },
   "outputs": [
    {
     "name": "stdout",
     "output_type": "stream",
     "text": [
      "1.56983602382e+14\n"
     ]
    }
   ],
   "source": [
    "    poly_testdata = validation_sframe(testing, all_features)\n",
    "    #poly_testdata\n",
    "    poly_testdata['price'] = testing['price'] # add price to the data since it's the target\n",
    "    \n",
    "    model_bestl1 = graphlab.linear_regression.create(training, target='price', features=all_features,\n",
    "                                              validation_set=None, \n",
    "                                              l2_penalty=0., l1_penalty=10, \n",
    "                                                  verbose = False)\n",
    "    \n",
    "    predictions_2 = model_bestl1.predict(poly_testdata)\n",
    "        # Then compute the residuals/errors\n",
    "    rss_errors = poly_testdata['price'] - predictions_2\n",
    "        # Then square and add them up\n",
    "    rss_error_sq= rss_errors*rss_errors\n",
    "        #RSS = RSS_ + str(degree)\n",
    "    RSS=rss_error_sq.sum()\n",
    "    print RSS"
   ]
  },
  {
   "cell_type": "markdown",
   "metadata": {},
   "source": [
    "## Limit the number of nonzero weights\n",
    "\n",
    "What if we absolutely wanted to limit ourselves to, say, 7 features? This may be important if we want to derive \"a rule of thumb\" --- an interpretable model that has only a few features in them."
   ]
  },
  {
   "cell_type": "markdown",
   "metadata": {},
   "source": [
    "In this section, you are going to implement a simple, two phase procedure to achive this goal:\n",
    "1. Explore a large range of `l1_penalty` values to find a narrow region of `l1_penalty` values where models are likely to have the desired number of non-zero weights.\n",
    "2. Further explore the narrow region you found to find a good value for `l1_penalty` that achieves the desired sparsity.  Here, we will again use a validation set to choose the best value for `l1_penalty`."
   ]
  },
  {
   "cell_type": "code",
   "execution_count": 25,
   "metadata": {
    "collapsed": true
   },
   "outputs": [],
   "source": [
    "max_nonzeros = 7"
   ]
  },
  {
   "cell_type": "markdown",
   "metadata": {},
   "source": [
    "## Exploring the larger range of values to find a narrow range with the desired sparsity\n",
    "\n",
    "Let's define a wide range of possible `l1_penalty_values`:"
   ]
  },
  {
   "cell_type": "code",
   "execution_count": 26,
   "metadata": {
    "collapsed": false
   },
   "outputs": [
    {
     "data": {
      "text/plain": [
       "array([  1.00000000e+08,   1.27427499e+08,   1.62377674e+08,\n",
       "         2.06913808e+08,   2.63665090e+08,   3.35981829e+08,\n",
       "         4.28133240e+08,   5.45559478e+08,   6.95192796e+08,\n",
       "         8.85866790e+08,   1.12883789e+09,   1.43844989e+09,\n",
       "         1.83298071e+09,   2.33572147e+09,   2.97635144e+09,\n",
       "         3.79269019e+09,   4.83293024e+09,   6.15848211e+09,\n",
       "         7.84759970e+09,   1.00000000e+10])"
      ]
     },
     "execution_count": 26,
     "metadata": {},
     "output_type": "execute_result"
    }
   ],
   "source": [
    "l1_penalty_values = np.logspace(8, 10, num=20)\n",
    "l1_penalty_values"
   ]
  },
  {
   "cell_type": "markdown",
   "metadata": {},
   "source": [
    "Now, implement a loop that search through this space of possible `l1_penalty` values:\n",
    "\n",
    "* For `l1_penalty` in `np.logspace(8, 10, num=20)`:\n",
    "    * Fit a regression model with a given `l1_penalty` on TRAIN data. Specify `l1_penalty=l1_penalty` and `l2_penalty=0.` in the parameter list. When you call `linear_regression.create()` make sure you set `validation_set = None`\n",
    "    * Extract the weights of the model and count the number of nonzeros. Save the number of nonzeros to a list.\n",
    "        * *Hint: `model['coefficients']['value']` gives you an SArray with the parameters you learned.  If you call the method `.nnz()` on it, you will find the number of non-zero parameters!* "
   ]
  },
  {
   "cell_type": "code",
   "execution_count": 27,
   "metadata": {
    "collapsed": false
   },
   "outputs": [
    {
     "name": "stdout",
     "output_type": "stream",
     "text": [
      "100000000.0\n",
      "number of nonzeros = 18\n",
      "Learned polynomial for degree 17:\n",
      "       17        16         15         14        13        12\n",
      "48.62 x  + 9.04 x  + 118.9 x  + 43.04 x  + 6139 x  + 6361 x \n",
      "              11             10             9            8       7\n",
      " + 9.107e+04 x  + 5.682e+05 x  + 1.247e+04 x + 2.07e+04 x + 144 x\n",
      "            6        5         4             3         2\n",
      " - 0.02569 x + 1117 x + 39.04 x + 2.523e+04 x + 847.6 x + 7789 x + 2.509e+04\n",
      "6.27492659875e+14\n",
      "\n",
      "\n",
      "127427498.57\n",
      "number of nonzeros = 18\n",
      "Learned polynomial for degree 17:\n",
      "       17         16       15         14        13        12\n",
      "46.56 x  + 8.924 x  + 118 x  + 42.96 x  + 6118 x  + 6288 x \n",
      "              11             10             9             8         7\n",
      " + 9.044e+04 x  + 5.589e+05 x  + 1.234e+04 x + 2.055e+04 x + 142.5 x\n",
      "            6        5         4             3         2\n",
      " - 0.01866 x + 1115 x + 39.01 x + 2.518e+04 x + 822.4 x + 7744 x + 2.675e+04\n",
      "6.28210516771e+14\n",
      "\n",
      "\n",
      "162377673.919\n",
      "number of nonzeros = 18\n",
      "Learned polynomial for degree 17:\n",
      "       17         16         15         14        13        12\n",
      "43.95 x  + 8.784 x  + 116.8 x  + 42.87 x  + 6094 x  + 6200 x \n",
      "              11             10             9             8         7\n",
      " + 8.965e+04 x  + 5.471e+05 x  + 1.218e+04 x + 2.037e+04 x + 140.9 x\n",
      "            6        5         4             3         2\n",
      " - 0.02474 x + 1112 x + 38.98 x + 2.512e+04 x + 790.9 x + 7691 x + 2.887e+04\n",
      "6.29176689541e+14\n",
      "\n",
      "\n",
      "206913808.111\n",
      "number of nonzeros = 18\n",
      "Learned polynomial for degree 17:\n",
      "       17         16         15         14        13        12\n",
      "40.62 x  + 8.597 x  + 115.2 x  + 42.74 x  + 6061 x  + 6083 x \n",
      "              11             10             9             8         7\n",
      " + 8.863e+04 x  + 5.321e+05 x  + 1.198e+04 x + 2.012e+04 x + 138.4 x\n",
      "            6        5         4             3         2\n",
      " - 0.01774 x + 1108 x + 38.94 x + 2.503e+04 x + 750.2 x + 7619 x + 3.156e+04\n",
      "6.30650082719e+14\n",
      "\n",
      "\n",
      "263665089.873\n",
      "number of nonzeros = 17\n",
      "Learned polynomial for degree 17:\n",
      "       17         16         15         14        13        12\n",
      "36.36 x  + 8.338 x  + 113.2 x  + 42.55 x  + 6013 x  + 5922 x \n",
      "              11             10            9            8         7\n",
      " + 8.729e+04 x  + 5.128e+05 x  + 1.17e+04 x + 1.98e+04 x + 133.9 x\n",
      "         5         4             3         2\n",
      " + 1103 x + 38.86 x + 2.489e+04 x + 696.8 x + 7515 x + 3.495e+04\n",
      "6.32940229287e+14\n",
      "\n",
      "\n",
      "335981828.628\n",
      "number of nonzeros = 17\n",
      "Learned polynomial for degree 17:\n",
      "       17         16         15         14        13        12\n",
      "30.94 x  + 8.028 x  + 110.7 x  + 42.34 x  + 5957 x  + 5729 x \n",
      "              11             10             9            8         7\n",
      " + 8.563e+04 x  + 4.883e+05 x  + 1.137e+04 x + 1.94e+04 x + 129.4 x\n",
      "         5         4             3         2\n",
      " + 1096 x + 38.78 x + 2.475e+04 x + 630.3 x + 7395 x + 3.931e+04\n",
      "6.3626814023e+14\n",
      "\n",
      "\n",
      "428133239.872\n",
      "number of nonzeros = 17\n",
      "Learned polynomial for degree 17:\n",
      "       17         16         15         14        13        12\n",
      "24.08 x  + 7.654 x  + 107.6 x  + 42.08 x  + 5890 x  + 5493 x \n",
      "              11             10             9             8       7\n",
      " + 8.349e+04 x  + 4.571e+05 x  + 1.095e+04 x + 1.892e+04 x + 122 x\n",
      "         5         4             3         2\n",
      " + 1088 x + 38.68 x + 2.457e+04 x + 547.6 x + 7253 x + 4.491e+04\n",
      "6.41261198311e+14\n",
      "\n",
      "\n",
      "545559478.117\n",
      "number of nonzeros = 17\n",
      "Learned polynomial for degree 17:\n",
      "       17         16         15         14        13        12\n",
      "15.32 x  + 7.172 x  + 103.6 x  + 41.74 x  + 5805 x  + 5191 x \n",
      "              11             10             9             8       7\n",
      " + 8.076e+04 x  + 4.174e+05 x  + 1.042e+04 x + 1.831e+04 x + 113 x\n",
      "         5         4             3         2\n",
      " + 1079 x + 38.56 x + 2.434e+04 x + 441.8 x + 7070 x + 5.203e+04\n",
      "6.48983455376e+14\n",
      "\n",
      "\n",
      "695192796.178\n",
      "number of nonzeros = 17\n",
      "Learned polynomial for degree 17:\n",
      "       17         16         15         14        13        12\n",
      "4.171 x  + 6.566 x  + 98.47 x  + 41.31 x  + 5697 x  + 4811 x \n",
      "              11             10        9             8         7\n",
      " + 7.728e+04 x  + 3.668e+05 x  + 9755 x + 1.754e+04 x + 100.2 x\n",
      "         5         4             3         2\n",
      " + 1066 x + 38.41 x + 2.406e+04 x + 307.9 x + 6842 x + 6.112e+04\n",
      "6.60962217696e+14\n",
      "\n",
      "\n",
      "885866790.41\n",
      "number of nonzeros = 16\n",
      "Learned polynomial for degree 17:\n",
      "       16         15         14        13        12             11\n",
      "5.769 x  + 91.91 x  + 40.74 x  + 5554 x  + 4313 x  + 7.278e+04 x \n",
      "              10        9             8         7        5         4\n",
      " + 3.019e+05 x  + 8890 x + 1.653e+04 x + 83.22 x + 1049 x + 38.19 x\n",
      "              3         2\n",
      " + 2.368e+04 x + 135.2 x + 6537 x + 7.265e+04\n",
      "6.77261520728e+14\n",
      "\n",
      "\n",
      "1128837891.68\n",
      "number of nonzeros = 15\n",
      "Learned polynomial for degree 17:\n",
      "       16         15         14        13        12             11\n",
      "4.731 x  + 83.37 x  + 39.98 x  + 5365 x  + 3672 x  + 6.681e+04 x \n",
      "              10        9             8         7        5         4\n",
      " + 2.172e+05 x  + 7779 x + 1.521e+04 x + 60.07 x + 1027 x + 37.89 x\n",
      "              3\n",
      " + 2.317e+04 x + 6137 x + 8.73e+04\n",
      "7.01046815867e+14\n",
      "\n",
      "\n",
      "1438449888.29\n",
      "number of nonzeros = 15\n",
      "Learned polynomial for degree 17:\n",
      "       16         15         14        13        12             11\n",
      "3.353 x  + 72.26 x  + 38.97 x  + 5110 x  + 2826 x  + 5.904e+04 x \n",
      "              10        9             8         7         5         4\n",
      " + 1.082e+05 x  + 6335 x + 1.347e+04 x + 29.06 x + 995.1 x + 37.45 x\n",
      "              3\n",
      " + 2.246e+04 x + 5590 x + 1.058e+05\n",
      "7.37850622829e+14\n",
      "\n",
      "\n",
      "1832980710.83\n",
      "number of nonzeros = 13\n",
      "Learned polynomial for degree 17:\n",
      "       16         15         14        13        12             11\n",
      "1.448 x  + 57.66 x  + 37.52 x  + 4747 x  + 1668 x  + 4.891e+04 x \n",
      "         9             8       5         4             3\n",
      " + 4416 x + 1.107e+04 x + 948 x + 36.75 x + 2.142e+04 x + 4784 x + 1.292e+05\n",
      "7.9616310964e+14\n",
      "\n",
      "\n",
      "2335721469.09\n",
      "number of nonzeros = 12\n",
      "Learned polynomial for degree 17:\n",
      "       15         14        13       12             11        9\n",
      "38.19 x  + 35.53 x  + 4259 x  + 150 x  + 3.283e+04 x  + 1927 x\n",
      "         8         5        4             3\n",
      " + 7920 x + 882.8 x + 35.7 x + 1.999e+04 x + 3707 x + 1.588e+05\n",
      "8.69018172894e+14\n",
      "\n",
      "\n",
      "2976351441.63\n",
      "number of nonzeros = 10\n",
      "Learned polynomial for degree 17:\n",
      "      15         14        13             11        8         5\n",
      "12.8 x  + 32.74 x  + 3579 x  + 1.133e+04 x  + 3666 x + 789.3 x\n",
      "          4             3\n",
      " + 34.14 x + 1.796e+04 x + 2182 x + 1.961e+05\n",
      "9.66925692362e+14\n",
      "\n",
      "\n",
      "3792690190.73\n",
      "number of nonzeros = 6\n",
      "Learned polynomial for degree 17:\n",
      "       14        13         5         4             3\n",
      "27.49 x  + 2265 x  + 592.2 x + 30.56 x + 1.384e+04 x + 2.403e+05\n",
      "1.08186759232e+15\n",
      "\n",
      "\n",
      "4832930238.57\n",
      "number of nonzeros = 5\n",
      "Learned polynomial for degree 17:\n",
      "       14       5         4        3\n",
      "18.41 x  + 215 x + 23.17 x + 6104 x + 2.918e+05\n",
      "1.24492736032e+15\n",
      "\n",
      "\n",
      "6158482110.66\n",
      "number of nonzeros = 3\n",
      "Learned polynomial for degree 17:\n",
      "       14         4\n",
      "4.663 x  + 11.51 x + 3.524e+05\n",
      "1.38416149024e+15\n",
      "\n",
      "\n",
      "7847599703.51\n",
      "number of nonzeros = 1\n",
      "Learned polynomial for degree 17:\n",
      " \n",
      "5.08e+05\n",
      "1.23079472046e+15\n",
      "\n",
      "\n",
      "10000000000.0\n",
      "number of nonzeros = 1\n",
      "Learned polynomial for degree 17:\n",
      " \n",
      "5.645e+05\n",
      "1.22915716064e+15\n",
      "\n",
      "\n"
     ]
    }
   ],
   "source": [
    "import numpy as np\n",
    "RSS_min = 1e100\n",
    "best_l1_penalty=10\n",
    "for l1_penalty in np.logspace(8,10,num=20):\n",
    "    #print l1_penalty\n",
    "    model = graphlab.linear_regression.create(training, target='price', features=all_features,\n",
    "                                              validation_set=None, \n",
    "                                              l2_penalty=0., l1_penalty=l1_penalty, \n",
    "                                                  verbose = False)\n",
    "    print l1_penalty\n",
    "    print 'number of nonzeros = %d' % (model.coefficients['value']).nnz()\n",
    "    print_coefficients(model)\n",
    "    \n",
    "    poly_validdata_2 = validation_sframe(validation, all_features)\n",
    "    poly_validdata_2['price'] = validation['price'] # add price to the data since it's the target\n",
    "\n",
    "    predictions = model.predict(poly_validdata_2)\n",
    "        # Then compute the residuals/errors\n",
    "    rss_errors = poly_validdata_2['price'] - predictions\n",
    "        # Then square and add them up\n",
    "    rss_error_sq= rss_errors*rss_errors\n",
    "        #RSS = RSS_ + str(degree)\n",
    "    RSS=rss_error_sq.sum()\n",
    "    print RSS\n",
    "    \n",
    "    \n",
    "    print '\\n'\n",
    "    \n"
   ]
  },
  {
   "cell_type": "markdown",
   "metadata": {},
   "source": [
    "Out of this large range, we want to find the two ends of our desired narrow range of `l1_penalty`.  At one end, we will have `l1_penalty` values that have too few non-zeros, and at the other end, we will have an `l1_penalty` that has too many non-zeros.  \n",
    "\n",
    "More formally, find:\n",
    "* The largest `l1_penalty` that has more non-zeros than `max_nonzero` (if we pick a penalty smaller than this value, we will definitely have too many non-zero weights)\n",
    "    * Store this value in the variable `l1_penalty_min` (we will use it later)\n",
    "* The smallest `l1_penalty` that has fewer non-zeros than `max_nonzero` (if we pick a penalty larger than this value, we will definitely have too few non-zero weights)\n",
    "    * Store this value in the variable `l1_penalty_max` (we will use it later)\n",
    "\n",
    "\n",
    "*Hint: there are many ways to do this, e.g.:*\n",
    "* Programmatically within the loop above\n",
    "* Creating a list with the number of non-zeros for each value of `l1_penalty` and inspecting it to find the appropriate boundaries."
   ]
  },
  {
   "cell_type": "code",
   "execution_count": 28,
   "metadata": {
    "collapsed": true
   },
   "outputs": [],
   "source": [
    "l1_penalty_min = 2976351441.63\n",
    "l1_penalty_max = 3792690190.73"
   ]
  },
  {
   "cell_type": "markdown",
   "metadata": {},
   "source": [
    "## Exploring the narrow range of values to find the solution with the right number of non-zeros that has lowest RSS on the validation set \n",
    "\n",
    "We will now explore the narrow region of `l1_penalty` values we found:"
   ]
  },
  {
   "cell_type": "code",
   "execution_count": 29,
   "metadata": {
    "collapsed": false
   },
   "outputs": [
    {
     "data": {
      "text/plain": [
       "array([  2.97635144e+09,   3.01931664e+09,   3.06228184e+09,\n",
       "         3.10524703e+09,   3.14821223e+09,   3.19117743e+09,\n",
       "         3.23414263e+09,   3.27710782e+09,   3.32007302e+09,\n",
       "         3.36303822e+09,   3.40600341e+09,   3.44896861e+09,\n",
       "         3.49193381e+09,   3.53489901e+09,   3.57786420e+09,\n",
       "         3.62082940e+09,   3.66379460e+09,   3.70675980e+09,\n",
       "         3.74972499e+09,   3.79269019e+09])"
      ]
     },
     "execution_count": 29,
     "metadata": {},
     "output_type": "execute_result"
    }
   ],
   "source": [
    "l1_penalty_values = np.linspace(l1_penalty_min,l1_penalty_max,20)\n",
    "l1_penalty_values"
   ]
  },
  {
   "cell_type": "markdown",
   "metadata": {},
   "source": [
    "* For `l1_penalty` in `np.linspace(l1_penalty_min,l1_penalty_max,20)`:\n",
    "    * Fit a regression model with a given `l1_penalty` on TRAIN data. Specify `l1_penalty=l1_penalty` and `l2_penalty=0.` in the parameter list. When you call `linear_regression.create()` make sure you set `validation_set = None`\n",
    "    * Measure the RSS of the learned model on the VALIDATION set\n",
    "\n",
    "Find the model that the lowest RSS on the VALIDATION set and has sparsity *equal* to `max_nonzero`."
   ]
  },
  {
   "cell_type": "code",
   "execution_count": 30,
   "metadata": {
    "collapsed": false
   },
   "outputs": [
    {
     "name": "stdout",
     "output_type": "stream",
     "text": [
      "2976351441.63\n",
      "number of nonzeros = 10\n",
      "Learned polynomial for degree 17:\n",
      "      15         14        13             11        8         5\n",
      "12.8 x  + 32.74 x  + 3579 x  + 1.133e+04 x  + 3666 x + 789.3 x\n",
      "          4             3\n",
      " + 34.14 x + 1.796e+04 x + 2182 x + 1.961e+05\n",
      "9.66925692362e+14\n",
      "\n",
      "\n",
      "3019316638.95\n",
      "number of nonzeros = 10\n",
      "Learned polynomial for degree 17:\n",
      "       15         14        13        11        8         5         4\n",
      "11.05 x  + 32.54 x  + 3528 x  + 9877 x  + 3358 x + 782.2 x + 34.02 x\n",
      "              3\n",
      " + 1.781e+04 x + 2067 x + 1.986e+05\n",
      "9.74019450085e+14\n",
      "\n",
      "\n",
      "3062281836.27\n",
      "number of nonzeros = 10\n",
      "Learned polynomial for degree 17:\n",
      "       15         14        13        11        8       5        4\n",
      "9.306 x  + 32.33 x  + 3478 x  + 8419 x  + 3050 x + 775 x + 33.9 x\n",
      "              3\n",
      " + 1.766e+04 x + 1952 x + 2.01e+05\n",
      "9.81188367942e+14\n",
      "\n",
      "\n",
      "3105247033.59\n",
      "number of nonzeros = 10\n",
      "Learned polynomial for degree 17:\n",
      "       15         14        13        11        8       5         4\n",
      "7.513 x  + 32.11 x  + 3421 x  + 6944 x  + 2717 x + 767 x + 33.76 x\n",
      "              3\n",
      " + 1.749e+04 x + 1826 x + 2.034e+05\n",
      "9.89328342459e+14\n",
      "\n",
      "\n",
      "3148212230.91\n",
      "number of nonzeros = 10\n",
      "Learned polynomial for degree 17:\n",
      "       15         14        13        11        8         5        4\n",
      "5.675 x  + 31.85 x  + 3358 x  + 5448 x  + 2342 x + 757.6 x + 33.6 x\n",
      "              3\n",
      " + 1.729e+04 x + 1683 x + 2.058e+05\n",
      "9.98783211266e+14\n",
      "\n",
      "\n",
      "3191177428.24\n",
      "number of nonzeros = 10\n",
      "Learned polynomial for degree 17:\n",
      "       15         14        13        11        8         5         4\n",
      "3.833 x  + 31.59 x  + 3293 x  + 3950 x  + 1964 x + 748.2 x + 33.43 x\n",
      "              3\n",
      " + 1.709e+04 x + 1540 x + 2.082e+05\n",
      "1.00847716702e+15\n",
      "\n",
      "\n",
      "3234142625.56\n",
      "number of nonzeros = 10\n",
      "Learned polynomial for degree 17:\n",
      "       15         14        13        11        8         5         4\n",
      "1.991 x  + 31.33 x  + 3229 x  + 2451 x  + 1585 x + 738.7 x + 33.27 x\n",
      "              3\n",
      " + 1.689e+04 x + 1396 x + 2.105e+05\n",
      "1.01829878055e+15\n",
      "\n",
      "\n",
      "3277107822.88\n",
      "number of nonzeros = 10\n",
      "Learned polynomial for degree 17:\n",
      "       15         14        13       11        8         5        4\n",
      "0.149 x  + 31.08 x  + 3165 x  + 953 x  + 1207 x + 729.3 x + 33.1 x\n",
      "              3\n",
      " + 1.669e+04 x + 1252 x + 2.129e+05\n",
      "1.02824799221e+15\n",
      "\n",
      "\n",
      "3320073020.2\n",
      "number of nonzeros = 8\n",
      "Learned polynomial for degree 17:\n",
      "       14        13         8         5         4            3\n",
      "30.82 x  + 3100 x  + 829.6 x + 719.9 x + 32.94 x + 1.65e+04 x + 1108 x + 2.152e+05\n",
      "1.03461690923e+15\n",
      "\n",
      "\n",
      "3363038217.52\n",
      "number of nonzeros = 8\n",
      "Learned polynomial for degree 17:\n",
      "       14        13         8         5         4            3\n",
      "30.56 x  + 3037 x  + 456.8 x + 710.5 x + 32.78 x + 1.63e+04 x + 966.4 x + 2.176e+05\n",
      "1.03855473594e+15\n",
      "\n",
      "\n",
      "3406003414.84\n",
      "number of nonzeros = 8\n",
      "Learned polynomial for degree 17:\n",
      "       14        13         8         5        4             3\n",
      "30.29 x  + 2969 x  + 64.82 x + 700.4 x + 32.6 x + 1.609e+04 x + 815.3 x + 2.199e+05\n",
      "1.04323723787e+15\n",
      "\n",
      "\n",
      "3448968612.16\n",
      "number of nonzeros = 7\n",
      "Learned polynomial for degree 17:\n",
      "       14        13         5         4             3\n",
      "30.01 x  + 2899 x  + 690.1 x + 32.41 x + 1.587e+04 x + 661.7 x + 2.223e+05\n",
      "1.04693748875e+15\n",
      "\n",
      "\n",
      "3491933809.48\n",
      "number of nonzeros = 7\n",
      "Learned polynomial for degree 17:\n",
      "       14        13         5        4             3\n",
      "29.72 x  + 2825 x  + 678.9 x + 32.2 x + 1.564e+04 x + 497 x + 2.245e+05\n",
      "1.05114762561e+15\n",
      "\n",
      "\n",
      "3534899006.8\n",
      "number of nonzeros = 7\n",
      "Learned polynomial for degree 17:\n",
      "       14        13         5         4             3\n",
      "29.41 x  + 2748 x  + 666.9 x + 31.98 x + 1.539e+04 x + 322.1 x + 2.268e+05\n",
      "1.05599273534e+15\n",
      "\n",
      "\n",
      "3577864204.12\n",
      "number of nonzeros = 7\n",
      "Learned polynomial for degree 17:\n",
      "      14        13         5         4             3\n",
      "29.1 x  + 2670 x  + 655.1 x + 31.76 x + 1.515e+04 x + 149.4 x + 2.291e+05\n",
      "1.06079953176e+15\n",
      "\n",
      "\n",
      "3620829401.45\n",
      "number of nonzeros = 6\n",
      "Learned polynomial for degree 17:\n",
      "       14        13         5         4             3\n",
      "28.78 x  + 2591 x  + 642.9 x + 31.53 x + 1.489e+04 x + 2.313e+05\n",
      "1.0657076895e+15\n",
      "\n",
      "\n",
      "3663794598.77\n",
      "number of nonzeros = 6\n",
      "Learned polynomial for degree 17:\n",
      "       14        13         5        4             3\n",
      "28.46 x  + 2511 x  + 630.6 x + 31.3 x + 1.464e+04 x + 2.336e+05\n",
      "1.06946433543e+15\n",
      "\n",
      "\n",
      "3706759796.09\n",
      "number of nonzeros = 6\n",
      "Learned polynomial for degree 17:\n",
      "       14        13         5         4             3\n",
      "28.14 x  + 2430 x  + 617.9 x + 31.05 x + 1.437e+04 x + 2.358e+05\n",
      "1.07350454959e+15\n",
      "\n",
      "\n",
      "3749724993.41\n",
      "number of nonzeros = 6\n",
      "Learned polynomial for degree 17:\n",
      "       14        13         5         4             3\n",
      "27.81 x  + 2348 x  + 605.1 x + 30.81 x + 1.411e+04 x + 2.381e+05\n",
      "1.07763277558e+15\n",
      "\n",
      "\n",
      "3792690190.73\n",
      "number of nonzeros = 6\n",
      "Learned polynomial for degree 17:\n",
      "       14        13         5         4             3\n",
      "27.49 x  + 2265 x  + 592.2 x + 30.56 x + 1.384e+04 x + 2.403e+05\n",
      "1.08186759232e+15\n",
      "\n",
      "\n"
     ]
    }
   ],
   "source": [
    "import numpy as np\n",
    "\n",
    "for l1_penalty in np.linspace(l1_penalty_min,l1_penalty_max,20):\n",
    "    #print l1_penalty\n",
    "    model = graphlab.linear_regression.create(training, target='price', features=all_features,\n",
    "                                              validation_set=None, \n",
    "                                              l2_penalty=0., l1_penalty=l1_penalty, \n",
    "                                                  verbose = False)\n",
    "    print l1_penalty\n",
    "    print 'number of nonzeros = %d' % (model.coefficients['value']).nnz()\n",
    "    print_coefficients(model)\n",
    "    \n",
    "    poly_validdata_2 = validation_sframe(validation, all_features)\n",
    "    poly_validdata_2['price'] = validation['price'] # add price to the data since it's the target\n",
    "\n",
    "    predictions = model.predict(poly_validdata_2)\n",
    "        # Then compute the residuals/errors\n",
    "    rss_errors = poly_validdata_2['price'] - predictions\n",
    "        # Then square and add them up\n",
    "    rss_error_sq= rss_errors*rss_errors\n",
    "        #RSS = RSS_ + str(degree)\n",
    "    RSS=rss_error_sq.sum()\n",
    "    print RSS\n",
    "    \n",
    "    \n",
    "    print '\\n'\n",
    "    \n"
   ]
  },
  {
   "cell_type": "markdown",
   "metadata": {},
   "source": [
    "Value of `l1_penalty` in our narrow range has the lowest RSS on the VALIDATION set and has sparsity *equal* to `max_nonzeros`?\n",
    "Features in this model have non-zero coefficients?"
   ]
  },
  {
   "cell_type": "code",
   "execution_count": null,
   "metadata": {
    "collapsed": false
   },
   "outputs": [],
   "source": [
    "3448968612.16\n"
   ]
  },
  {
   "cell_type": "code",
   "execution_count": null,
   "metadata": {
    "collapsed": false
   },
   "outputs": [],
   "source": [
    "       14        13         5         4             3\n",
    "30.01 x  + 2899 x  + 690.1 x + 32.41 x + 1.587e+04 x + 661.7 x + 2.223e+05\n",
    "\n",
    "3\n",
    "bathrooms\n",
    "4\n",
    "sqft_living\n",
    "5\n",
    "sqft_living_sqrt\n",
    "13\n",
    "grade\n",
    "14\n",
    "sqft_above\n"
   ]
  }
 ],
 "metadata": {
  "anaconda-cloud": {},
  "kernelspec": {
   "display_name": "Python [default]",
   "language": "python",
   "name": "python2"
  },
  "language_info": {
   "codemirror_mode": {
    "name": "ipython",
    "version": 2
   },
   "file_extension": ".py",
   "mimetype": "text/x-python",
   "name": "python",
   "nbconvert_exporter": "python",
   "pygments_lexer": "ipython2",
   "version": "2.7.11"
  }
 },
 "nbformat": 4,
 "nbformat_minor": 0
}
